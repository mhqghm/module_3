{
 "cells": [
  {
   "cell_type": "markdown",
   "metadata": {},
   "source": [
    "### Home assignment 01.\n",
    "\n",
    "Your goal is to follow this notebook and complete all the steps.\n",
    "\n",
    "Please, solve all these excersises (both on python and bash) _using the remote machine_: either in jupyter notebook or using bash.\n",
    "\n",
    "We ask you to start with signing this notebook in the following cell and printing some tech information. Please, just run the second cell without any changes.\n",
    "\n",
    "Good luck!"
   ]
  },
  {
   "cell_type": "code",
   "execution_count": 1,
   "metadata": {},
   "outputs": [],
   "source": [
    "first_name = 'yahor'\n",
    "last_name = 'dubovik'"
   ]
  },
  {
   "cell_type": "code",
   "execution_count": 2,
   "metadata": {},
   "outputs": [
    {
     "name": "stdout",
     "output_type": "stream",
     "text": [
      "['/home/ml32020/dubovik/module_3', '/home/ml32020/dubovik/miniconda3/envs/py3_study/lib/python38.zip', '/home/ml32020/dubovik/miniconda3/envs/py3_study/lib/python3.8', '/home/ml32020/dubovik/miniconda3/envs/py3_study/lib/python3.8/lib-dynload', '', '/home/ml32020/dubovik/miniconda3/envs/py3_study/lib/python3.8/site-packages', '/home/ml32020/dubovik/miniconda3/envs/py3_study/lib/python3.8/site-packages/IPython/extensions', '/home/ml32020/dubovik/.ipython']\n",
      "3.8.12 (default, Oct 12 2021, 13:49:34) \n",
      "[GCC 7.5.0]\n"
     ]
    }
   ],
   "source": [
    "import sys\n",
    "print(sys.path)\n",
    "print(sys.version)"
   ]
  },
  {
   "cell_type": "markdown",
   "metadata": {},
   "source": [
    "#### Excersise 0\n",
    "Import `this` and read the zen of Python."
   ]
  },
  {
   "cell_type": "code",
   "execution_count": 3,
   "metadata": {},
   "outputs": [
    {
     "name": "stdout",
     "output_type": "stream",
     "text": [
      "The Zen of Python, by Tim Peters\n",
      "\n",
      "Beautiful is better than ugly.\n",
      "Explicit is better than implicit.\n",
      "Simple is better than complex.\n",
      "Complex is better than complicated.\n",
      "Flat is better than nested.\n",
      "Sparse is better than dense.\n",
      "Readability counts.\n",
      "Special cases aren't special enough to break the rules.\n",
      "Although practicality beats purity.\n",
      "Errors should never pass silently.\n",
      "Unless explicitly silenced.\n",
      "In the face of ambiguity, refuse the temptation to guess.\n",
      "There should be one-- and preferably only one --obvious way to do it.\n",
      "Although that way may not be obvious at first unless you're Dutch.\n",
      "Now is better than never.\n",
      "Although never is often better than *right* now.\n",
      "If the implementation is hard to explain, it's a bad idea.\n",
      "If the implementation is easy to explain, it may be a good idea.\n",
      "Namespaces are one honking great idea -- let's do more of those!\n"
     ]
    },
    {
     "data": {
      "text/plain": [
       "<module 'this' from '/home/ml32020/dubovik/miniconda3/envs/py3_study/lib/python3.8/this.py'>"
      ]
     },
     "execution_count": 3,
     "metadata": {},
     "output_type": "execute_result"
    }
   ],
   "source": [
    "# YOUR CODE HERE\n",
    "import this\n",
    "this"
   ]
  },
  {
   "cell_type": "code",
   "execution_count": 4,
   "metadata": {},
   "outputs": [],
   "source": [
    "student_has_read_zen_of_python = True\n",
    "assert student_has_read_zen_of_python"
   ]
  },
  {
   "cell_type": "markdown",
   "metadata": {},
   "source": [
    "#### Excersise 1\n",
    "\n",
    "Read the docs on `isinstance` method and check whether the following objects belong to the proposed types (hint: `isinstance`).\n",
    "\n",
    "Additional excersise: visualize this correspondance matrix (object – type), e.g. using numpy and [pcolormesh](https://matplotlib.org/stable/api/_as_gen/matplotlib.pyplot.pcolormesh.html) for visualization."
   ]
  },
  {
   "cell_type": "code",
   "execution_count": 11,
   "metadata": {},
   "outputs": [],
   "source": [
    "list_of_objects = [\n",
    "    int,\n",
    "    2,\n",
    "    2.,\n",
    "    None,\n",
    "    object,\n",
    "    str,\n",
    "    str(2.),\n",
    "    float('2.0'),\n",
    "    'hello',\n",
    "    this,\n",
    "    dict,\n",
    "    list,\n",
    "    [dict],\n",
    "    {1: []}\n",
    "]\n",
    "\n",
    "list_of_types = [\n",
    "    int,\n",
    "    float,\n",
    "    object,\n",
    "    str,\n",
    "    dict,\n",
    "    list\n",
    "]"
   ]
  },
  {
   "cell_type": "code",
   "execution_count": 15,
   "metadata": {},
   "outputs": [
    {
     "name": "stdout",
     "output_type": "stream",
     "text": [
      "<class 'int'> is not instance of  <class 'int'>\n",
      "<class 'int'> is not instance of  <class 'float'>\n",
      "<class 'int'> is instance of  <class 'object'>\n",
      "<class 'int'> is not instance of  <class 'str'>\n",
      "<class 'int'> is not instance of  <class 'dict'>\n",
      "<class 'int'> is not instance of  <class 'list'>\n",
      "2 is instance of  <class 'int'>\n",
      "2 is not instance of  <class 'float'>\n",
      "2 is instance of  <class 'object'>\n",
      "2 is not instance of  <class 'str'>\n",
      "2 is not instance of  <class 'dict'>\n",
      "2 is not instance of  <class 'list'>\n",
      "2.0 is not instance of  <class 'int'>\n",
      "2.0 is instance of  <class 'float'>\n",
      "2.0 is instance of  <class 'object'>\n",
      "2.0 is not instance of  <class 'str'>\n",
      "2.0 is not instance of  <class 'dict'>\n",
      "2.0 is not instance of  <class 'list'>\n",
      "None is not instance of  <class 'int'>\n",
      "None is not instance of  <class 'float'>\n",
      "None is instance of  <class 'object'>\n",
      "None is not instance of  <class 'str'>\n",
      "None is not instance of  <class 'dict'>\n",
      "None is not instance of  <class 'list'>\n",
      "<class 'object'> is not instance of  <class 'int'>\n",
      "<class 'object'> is not instance of  <class 'float'>\n",
      "<class 'object'> is instance of  <class 'object'>\n",
      "<class 'object'> is not instance of  <class 'str'>\n",
      "<class 'object'> is not instance of  <class 'dict'>\n",
      "<class 'object'> is not instance of  <class 'list'>\n",
      "<class 'str'> is not instance of  <class 'int'>\n",
      "<class 'str'> is not instance of  <class 'float'>\n",
      "<class 'str'> is instance of  <class 'object'>\n",
      "<class 'str'> is not instance of  <class 'str'>\n",
      "<class 'str'> is not instance of  <class 'dict'>\n",
      "<class 'str'> is not instance of  <class 'list'>\n",
      "2.0 is not instance of  <class 'int'>\n",
      "2.0 is not instance of  <class 'float'>\n",
      "2.0 is instance of  <class 'object'>\n",
      "2.0 is instance of  <class 'str'>\n",
      "2.0 is not instance of  <class 'dict'>\n",
      "2.0 is not instance of  <class 'list'>\n",
      "2.0 is not instance of  <class 'int'>\n",
      "2.0 is instance of  <class 'float'>\n",
      "2.0 is instance of  <class 'object'>\n",
      "2.0 is not instance of  <class 'str'>\n",
      "2.0 is not instance of  <class 'dict'>\n",
      "2.0 is not instance of  <class 'list'>\n",
      "hello is not instance of  <class 'int'>\n",
      "hello is not instance of  <class 'float'>\n",
      "hello is instance of  <class 'object'>\n",
      "hello is instance of  <class 'str'>\n",
      "hello is not instance of  <class 'dict'>\n",
      "hello is not instance of  <class 'list'>\n",
      "<module 'this' from '/home/ml32020/dubovik/miniconda3/envs/py3_study/lib/python3.8/this.py'> is not instance of  <class 'int'>\n",
      "<module 'this' from '/home/ml32020/dubovik/miniconda3/envs/py3_study/lib/python3.8/this.py'> is not instance of  <class 'float'>\n",
      "<module 'this' from '/home/ml32020/dubovik/miniconda3/envs/py3_study/lib/python3.8/this.py'> is instance of  <class 'object'>\n",
      "<module 'this' from '/home/ml32020/dubovik/miniconda3/envs/py3_study/lib/python3.8/this.py'> is not instance of  <class 'str'>\n",
      "<module 'this' from '/home/ml32020/dubovik/miniconda3/envs/py3_study/lib/python3.8/this.py'> is not instance of  <class 'dict'>\n",
      "<module 'this' from '/home/ml32020/dubovik/miniconda3/envs/py3_study/lib/python3.8/this.py'> is not instance of  <class 'list'>\n",
      "<class 'dict'> is not instance of  <class 'int'>\n",
      "<class 'dict'> is not instance of  <class 'float'>\n",
      "<class 'dict'> is instance of  <class 'object'>\n",
      "<class 'dict'> is not instance of  <class 'str'>\n",
      "<class 'dict'> is not instance of  <class 'dict'>\n",
      "<class 'dict'> is not instance of  <class 'list'>\n",
      "<class 'list'> is not instance of  <class 'int'>\n",
      "<class 'list'> is not instance of  <class 'float'>\n",
      "<class 'list'> is instance of  <class 'object'>\n",
      "<class 'list'> is not instance of  <class 'str'>\n",
      "<class 'list'> is not instance of  <class 'dict'>\n",
      "<class 'list'> is not instance of  <class 'list'>\n",
      "[<class 'dict'>] is not instance of  <class 'int'>\n",
      "[<class 'dict'>] is not instance of  <class 'float'>\n",
      "[<class 'dict'>] is instance of  <class 'object'>\n",
      "[<class 'dict'>] is not instance of  <class 'str'>\n",
      "[<class 'dict'>] is not instance of  <class 'dict'>\n",
      "[<class 'dict'>] is instance of  <class 'list'>\n",
      "{1: []} is not instance of  <class 'int'>\n",
      "{1: []} is not instance of  <class 'float'>\n",
      "{1: []} is instance of  <class 'object'>\n",
      "{1: []} is not instance of  <class 'str'>\n",
      "{1: []} is instance of  <class 'dict'>\n",
      "{1: []} is not instance of  <class 'list'>\n"
     ]
    }
   ],
   "source": [
    "# YOUR CODE HERE\n",
    "for obj in list_of_objects:\n",
    "    for _type in list_of_types:\n",
    "        if isinstance(obj, _type):\n",
    "            print(obj, \"is instance of \", _type)\n",
    "        else:\n",
    "            print(obj, \"is not instance of \", _type)"
   ]
  },
  {
   "cell_type": "markdown",
   "metadata": {},
   "source": [
    "#### Excersise 2\n",
    "\n",
    "Set quotient and remainder of 89 divided by 11 to \"a\" and \"b\" variables *"
   ]
  },
  {
   "cell_type": "code",
   "execution_count": 16,
   "metadata": {},
   "outputs": [
    {
     "name": "stdout",
     "output_type": "stream",
     "text": [
      "8 1\n"
     ]
    }
   ],
   "source": [
    "a, b = 89 // 11, 89 % 11\n",
    "print(a, b)"
   ]
  },
  {
   "cell_type": "markdown",
   "metadata": {},
   "source": [
    "#### Excersise 3\n",
    "\n",
    "Calculate the next cells:\n",
    "```\n",
    "0) 10 ** 1000\n",
    "1) 1.0 / 10 ** 1000\n",
    "2) 1 / 10 ** 1000\n",
    "3) 10 ** 1000 / 1\n",
    "4) 1 / (1 / 10 ** 1000)\n",
    "```"
   ]
  },
  {
   "cell_type": "code",
   "execution_count": 20,
   "metadata": {},
   "outputs": [
    {
     "data": {
      "text/plain": [
       "10000000000000000000000000000000000000000000000000000000000000000000000000000000000000000000000000000000000000000000000000000000000000000000000000000000000000000000000000000000000000000000000000000000000000000000000000000000000000000000000000000000000000000000000000000000000000000000000000000000000000000000000000000000000000000000000000000000000000000000000000000000000000000000000000000000000000000000000000000000000000000000000000000000000000000000000000000000000000000000000000000000000000000000000000000000000000000000000000000000000000000000000000000000000000000000000000000000000000000000000000000000000000000000000000000000000000000000000000000000000000000000000000000000000000000000000000000000000000000000000000000000000000000000000000000000000000000000000000000000000000000000000000000000000000000000000000000000000000000000000000000000000000000000000000000000000000000000000000000000000000000000000000000000000000000000000000000000000000000000000000000000000000000000000000000000000000000"
      ]
     },
     "execution_count": 20,
     "metadata": {},
     "output_type": "execute_result"
    }
   ],
   "source": [
    "10 ** 1000"
   ]
  },
  {
   "cell_type": "code",
   "execution_count": 21,
   "metadata": {},
   "outputs": [
    {
     "ename": "OverflowError",
     "evalue": "int too large to convert to float",
     "output_type": "error",
     "traceback": [
      "\u001b[0;31m---------------------------------------------------------------------------\u001b[0m",
      "\u001b[0;31mOverflowError\u001b[0m                             Traceback (most recent call last)",
      "\u001b[0;32m/tmp/ipykernel_15812/2773759187.py\u001b[0m in \u001b[0;36m<module>\u001b[0;34m\u001b[0m\n\u001b[0;32m----> 1\u001b[0;31m \u001b[0;36m1.0\u001b[0m \u001b[0;34m/\u001b[0m \u001b[0;36m10\u001b[0m \u001b[0;34m**\u001b[0m \u001b[0;36m1000\u001b[0m\u001b[0;34m\u001b[0m\u001b[0;34m\u001b[0m\u001b[0m\n\u001b[0m",
      "\u001b[0;31mOverflowError\u001b[0m: int too large to convert to float"
     ]
    }
   ],
   "source": [
    "1.0 / 10 ** 1000"
   ]
  },
  {
   "cell_type": "code",
   "execution_count": 22,
   "metadata": {},
   "outputs": [
    {
     "data": {
      "text/plain": [
       "0.0"
      ]
     },
     "execution_count": 22,
     "metadata": {},
     "output_type": "execute_result"
    }
   ],
   "source": [
    "1 / 10 ** 1000"
   ]
  },
  {
   "cell_type": "code",
   "execution_count": 23,
   "metadata": {},
   "outputs": [
    {
     "ename": "OverflowError",
     "evalue": "integer division result too large for a float",
     "output_type": "error",
     "traceback": [
      "\u001b[0;31m---------------------------------------------------------------------------\u001b[0m",
      "\u001b[0;31mOverflowError\u001b[0m                             Traceback (most recent call last)",
      "\u001b[0;32m/tmp/ipykernel_15812/2607821260.py\u001b[0m in \u001b[0;36m<module>\u001b[0;34m\u001b[0m\n\u001b[0;32m----> 1\u001b[0;31m \u001b[0;36m10\u001b[0m \u001b[0;34m**\u001b[0m \u001b[0;36m1000\u001b[0m \u001b[0;34m/\u001b[0m \u001b[0;36m1\u001b[0m\u001b[0;34m\u001b[0m\u001b[0;34m\u001b[0m\u001b[0m\n\u001b[0m",
      "\u001b[0;31mOverflowError\u001b[0m: integer division result too large for a float"
     ]
    }
   ],
   "source": [
    "10 ** 1000 / 1"
   ]
  },
  {
   "cell_type": "code",
   "execution_count": 24,
   "metadata": {},
   "outputs": [
    {
     "ename": "ZeroDivisionError",
     "evalue": "float division by zero",
     "output_type": "error",
     "traceback": [
      "\u001b[0;31m---------------------------------------------------------------------------\u001b[0m",
      "\u001b[0;31mZeroDivisionError\u001b[0m                         Traceback (most recent call last)",
      "\u001b[0;32m/tmp/ipykernel_15812/1227082457.py\u001b[0m in \u001b[0;36m<module>\u001b[0;34m\u001b[0m\n\u001b[0;32m----> 1\u001b[0;31m \u001b[0;36m1\u001b[0m \u001b[0;34m/\u001b[0m \u001b[0;34m(\u001b[0m\u001b[0;36m1\u001b[0m \u001b[0;34m/\u001b[0m \u001b[0;36m10\u001b[0m \u001b[0;34m**\u001b[0m \u001b[0;36m1000\u001b[0m\u001b[0;34m)\u001b[0m\u001b[0;34m\u001b[0m\u001b[0;34m\u001b[0m\u001b[0m\n\u001b[0m",
      "\u001b[0;31mZeroDivisionError\u001b[0m: float division by zero"
     ]
    }
   ],
   "source": [
    "1 / (1 / 10 ** 1000)"
   ]
  },
  {
   "cell_type": "markdown",
   "metadata": {},
   "source": [
    "How to avoid these behaviours to receive correct results in steps 1-4?\n",
    "\n",
    "It is enough to provide your thoughts / seach the web for decisions and share the links / point to specific constructions in Python which were constructed to solve this problem."
   ]
  },
  {
   "cell_type": "markdown",
   "metadata": {},
   "source": [
    "_Your answer here_"
   ]
  },
  {
   "cell_type": "markdown",
   "metadata": {},
   "source": [
    "#### Excersise 4.1\n",
    "\n",
    "Check if string is a correct integer\n"
   ]
  },
  {
   "cell_type": "code",
   "execution_count": 33,
   "metadata": {},
   "outputs": [
    {
     "name": "stdout",
     "output_type": "stream",
     "text": [
      "023\n",
      "True\n"
     ]
    }
   ],
   "source": [
    "s = input()\n",
    "print(s.isnumeric())"
   ]
  },
  {
   "cell_type": "markdown",
   "metadata": {},
   "source": [
    "#### Excersise 4.2\n",
    "\n",
    "Create a palindrom from given string. For example, \"abc\" -> \"abcba\""
   ]
  },
  {
   "cell_type": "code",
   "execution_count": 35,
   "metadata": {},
   "outputs": [
    {
     "name": "stdout",
     "output_type": "stream",
     "text": [
      "aba\n",
      "ababa\n"
     ]
    }
   ],
   "source": [
    "s = input()\n",
    "s = s + s[-2::-1]\n",
    "print(s)"
   ]
  },
  {
   "cell_type": "markdown",
   "metadata": {},
   "source": [
    "#### Excersise 4.3\n",
    "\n",
    "User inputs one's name into \"name\" variable. One can use `lowercase`, `UPPERCASE`, or `sOmeTHingLikeThatCaSE`. You need to turn this string into regular case used with names: `Firstletterisbigothersaresmall`."
   ]
  },
  {
   "cell_type": "code",
   "execution_count": 41,
   "metadata": {},
   "outputs": [
    {
     "name": "stdout",
     "output_type": "stream",
     "text": [
      "Helloiamuser\n",
      "Johndeere\n",
      "Firstnamelastname\n"
     ]
    }
   ],
   "source": [
    "name1 = 'HellOIamUsER'\n",
    "name2 = 'johndeere'\n",
    "name3 = 'FIRSTNAMELASTNAME'\n",
    "\n",
    "def to_normal(name):\n",
    "    name = name.lower()\n",
    "    name = name[0].capitalize() + name[1:]\n",
    "    return name\n",
    "\n",
    "print(to_normal(name1))\n",
    "print(to_normal(name2))\n",
    "print(to_normal(name3))"
   ]
  },
  {
   "cell_type": "markdown",
   "metadata": {},
   "source": [
    "#### Excersise 4.4\n",
    "\n",
    "You have a string that consists of English letters and \".\", \",\", \"-\", \"!\", \"?\", \":\", \";\" symbols. Extract all words without punctuation from this string."
   ]
  },
  {
   "cell_type": "code",
   "execution_count": 45,
   "metadata": {},
   "outputs": [
    {
     "name": "stdout",
     "output_type": "stream",
     "text": [
      "aba. caba, daba: kaba\n",
      "['aba', 'caba', 'daba', 'kaba']\n"
     ]
    }
   ],
   "source": [
    "import re\n",
    "s = input()\n",
    "print(re.split('\\W+', s))"
   ]
  },
  {
   "cell_type": "markdown",
   "metadata": {},
   "source": [
    "#### Excersise 4.5\n",
    "\n",
    "Assign string `\"\"\"'''\\/'''\"\"\"` to Python variable (all 14 symbols)\n"
   ]
  },
  {
   "cell_type": "code",
   "execution_count": 47,
   "metadata": {},
   "outputs": [
    {
     "name": "stdout",
     "output_type": "stream",
     "text": [
      "\"\"\"'''\\/'''\"\"\"\n"
     ]
    }
   ],
   "source": [
    "var = '\\\"\\\"\\\"\\'\\'\\'\\\\/\\'\\'\\'\\\"\\\"\\\"'\n",
    "print(var)"
   ]
  },
  {
   "cell_type": "markdown",
   "metadata": {},
   "source": [
    "#### Excersise 4.6\n",
    "\n",
    "Print pi number in a string  \"pi is approximately equal to ALMOSTPI\", where instead of ALMOSTPI you insert 22/7 with 3 digits after comma."
   ]
  },
  {
   "cell_type": "code",
   "execution_count": 48,
   "metadata": {},
   "outputs": [
    {
     "name": "stdout",
     "output_type": "stream",
     "text": [
      "pi is approximately equal to 3.143\n"
     ]
    }
   ],
   "source": [
    "import math\n",
    "print(f\"pi is approximately equal to {22 / 7:.3f}\")"
   ]
  },
  {
   "cell_type": "markdown",
   "metadata": {},
   "source": [
    "#### Excersise 5\n",
    "\n",
    "You have multiline text inside string variable named `text`. Create list of lines from that text."
   ]
  },
  {
   "cell_type": "code",
   "execution_count": 51,
   "metadata": {},
   "outputs": [
    {
     "name": "stdout",
     "output_type": "stream",
     "text": [
      "A\n",
      "B\n",
      "C\n",
      "D\n",
      "E\n",
      "['A', 'B', 'C', 'D', 'E']\n"
     ]
    }
   ],
   "source": [
    "text = \"A\" + \"\\n\" + \"B\" + \"\\n\" + \"C\" + \"\\n\" + \"D\" + \"\\n\" + \"E\"\n",
    "print(text)\n",
    "print(text.splitlines())"
   ]
  },
  {
   "cell_type": "markdown",
   "metadata": {},
   "source": [
    "#### Excersise 5\n",
    "Answer with your own words to one of the following questions. Your variant is based on your name and computed automatically in the next cell.\n",
    "\n",
    "Variant 1:\n",
    "Imagine, you are developing a vending machine. You need to keep your vending machine state: which items are presented on which shelves, how much money inside machine to give change, how much money user inserted in current time, which purchases users made etc. You need to create a data structure for that using known data types.\n",
    "\n",
    "Variant 2:\n",
    "Imagine, you are developing a messenger with direct messages, groups, different media types of messages, etc. You need to keep your messenger state in memory: all users with their data, which chats they have, etc. You need to create a data structure for that using known data types.\n",
    "\n",
    "Variant 3:\n",
    "Imagine, you are developing a staff management system for a mid-size corporation. You need to keep all organizational structure in memory: departments, employees, their personal data, positions, salaries, history of growth, who is whose boss, etc. You need to create a data structure for that using known data types."
   ]
  },
  {
   "cell_type": "code",
   "execution_count": 52,
   "metadata": {},
   "outputs": [
    {
     "name": "stdout",
     "output_type": "stream",
     "text": [
      "Your variant is 1\n"
     ]
    }
   ],
   "source": [
    "variant = hash(' '.join([first_name, last_name])) % 3 + 1\n",
    "print(f'Your variant is {variant}')"
   ]
  },
  {
   "cell_type": "markdown",
   "metadata": {},
   "source": [
    "_Your answer here_\n",
    "I would store dictionary, where for each item I would store list of shelves where this item presented(in case there can be multiple shelves with one item). Amount of money can be stored in int, purchases of user can be stored in simple list."
   ]
  },
  {
   "cell_type": "markdown",
   "metadata": {},
   "source": [
    "#### Excersise 6\n",
    "\n",
    "Clear your current repository (remove all useless files).\n",
    "Then create a package named `assignment01`.\n",
    "\n",
    "In the `assignment01` package you should have two `.py` files:\n",
    "\n",
    "```\n",
    "get_date.py\n",
    "get_time.py\n",
    "```\n",
    "File `get_date.py` contains only function `ding()` which returns the current date in format `yyyy-mm-dd`\n",
    "\n",
    "File `get_date.py` contains only function `dong()` which  returns the current time in 24h format `hh:mm:ss`\n",
    "\n",
    "Import these files and call the functions in the next cell."
   ]
  },
  {
   "cell_type": "code",
   "execution_count": 58,
   "metadata": {},
   "outputs": [
    {
     "name": "stdout",
     "output_type": "stream",
     "text": [
      "2021-11-15\n",
      "18:21:04\n"
     ]
    }
   ],
   "source": [
    "from assignment01 import get_date\n",
    "from assignment01 import get_time\n",
    "print(get_date.ding())\n",
    "print(get_time.dong())"
   ]
  },
  {
   "cell_type": "markdown",
   "metadata": {},
   "source": [
    "#### Excersise 7\n",
    "\n",
    "Create the `.gitignore` file in the current repository and enshure git will ignore jupyter notebook checkpoints (hint: check the hidden directories) and python cache."
   ]
  },
  {
   "cell_type": "code",
   "execution_count": 60,
   "metadata": {},
   "outputs": [
    {
     "name": "stdout",
     "output_type": "stream",
     "text": [
      ".ipynb_checkpoints\r\n",
      "*/.ipynb_checkpoints/*\r\n"
     ]
    }
   ],
   "source": [
    "#_Here you should interact with the command prompt_\n",
    "!echo '.ipynb_checkpoints' >> .gitignore\n",
    "!echo '*/.ipynb_checkpoints/*' >> .gitignore\n",
    "!cat .gitignore"
   ]
  },
  {
   "cell_type": "markdown",
   "metadata": {},
   "source": [
    "#### Excersise 8\n",
    "Create folder `shell_tools` in your repository.\n",
    "\n",
    "Solve the excersises from [this lesson](https://missing.csail.mit.edu/2020/shell-tools/) from the brilliant course by MIT: https://missing.csail.mit.edu\n",
    "\n",
    "Place your solutions in the `shell_tools` directory. It should contain one file for each step except step 2 (named `step0*`) with bash commands. Step 2 already requires you to write `marco` and `polo` scripts)."
   ]
  },
  {
   "cell_type": "code",
   "execution_count": 63,
   "metadata": {},
   "outputs": [
    {
     "name": "stdout",
     "output_type": "stream",
     "text": [
      "total 64M\r\n",
      "drwxr-xr-x  2 dubovik dubovik 4.0K Nov 16 15:18 \u001b[0m\u001b[01;34mshell_tools\u001b[0m\r\n",
      "drwxr-xr-x  6 dubovik dubovik 4.0K Nov 15 18:38 \u001b[01;34m.\u001b[0m\r\n",
      "-rw-r--r--  1 dubovik dubovik  26K Nov 15 18:38 home_assignment01.ipynb\r\n",
      "-rw-r--r--  1 dubovik dubovik   42 Nov 15 18:29 .gitignore\r\n",
      "drwxr-xr-x  3 dubovik dubovik 4.0K Nov 15 18:20 \u001b[01;34massignment01\u001b[0m\r\n",
      "drwxr-xr-x  2 dubovik dubovik 4.0K Nov 15 17:27 \u001b[01;34m.ipynb_checkpoints\u001b[0m\r\n",
      "drwxr-xr-x  8 dubovik dubovik 4.0K Nov 15 17:23 \u001b[01;34m.git\u001b[0m\r\n",
      "drwxr-xr-x 13 dubovik dubovik 4.0K Nov 12 09:22 \u001b[01;34m..\u001b[0m\r\n",
      "-rw-r--r--  1 dubovik dubovik 1.7K Nov 10 22:24 requirements.txt\r\n",
      "-rw-r--r--  1 dubovik dubovik  64M Nov 10 11:23 Miniconda3.sh\r\n",
      "-rw-r--r--  1 dubovik dubovik   11 Nov 10 11:15 local_file.txt\r\n",
      "-rw-r--r--  1 dubovik dubovik    0 Nov 10 11:15 tset\r\n",
      "-rw-r--r--  1 dubovik dubovik 1.8K Nov 10 11:15 py3_study.yaml\r\n",
      "-rw-r--r--  1 dubovik dubovik   16 Nov  9 09:31 README.md\r\n"
     ]
    }
   ],
   "source": [
    "#_Here you should interact with the command prompt_\n",
    "!./shell_tools/step1.sh"
   ]
  },
  {
   "cell_type": "code",
   "execution_count": 69,
   "metadata": {},
   "outputs": [],
   "source": [
    "#don't know how to show it in jupyter, so just example of usage which will work from command line\n",
    "!source ./shell_tools/marco.sh ; marco\n",
    "!source ./shell_tools/polo.sh  ; polo"
   ]
  },
  {
   "cell_type": "code",
   "execution_count": 78,
   "metadata": {},
   "outputs": [
    {
     "name": "stdout",
     "output_type": "stream",
     "text": [
      "1\n",
      "2\n",
      "3\n",
      "4\n",
      "5\n",
      "6\n",
      "7\n",
      "8\n",
      "9\n",
      "10\n",
      "11\n",
      "12\n",
      "13\n",
      "14\n",
      "15\n",
      "16\n",
      "17\n",
      "18\n",
      "19\n",
      "20\n",
      "21\n",
      "22\n",
      "23\n",
      "24\n",
      "25\n",
      "26\n",
      "27\n",
      "28\n",
      "29\n",
      "30\n",
      "31\n",
      "32\n",
      "33\n",
      "34\n",
      "35\n",
      "36\n",
      "37\n",
      "38\n",
      "39\n",
      "40\n",
      "41\n",
      "42\n",
      "43\n",
      "44\n",
      "45\n",
      "46\n",
      "47\n",
      "48\n",
      "49\n",
      "50\n",
      "51\n",
      "52\n",
      "53\n",
      "54\n",
      "55\n",
      "56\n",
      "57\n",
      "58\n",
      "59\n",
      "60\n",
      "61\n",
      "62\n",
      "63\n",
      "64\n",
      "65\n",
      "66\n",
      "67\n",
      "68\n",
      "69\n",
      "70\n",
      "71\n",
      "72\n",
      "73\n",
      "74\n",
      "75\n",
      "76\n",
      "77\n",
      "78\n",
      "79\n",
      "80\n",
      "81\n",
      "82\n",
      "83\n",
      "84\n",
      "85\n",
      "86\n",
      "87\n",
      "88\n",
      "89\n",
      "90\n",
      "91\n",
      "92\n",
      "93\n",
      "94\n",
      "95\n",
      "96\n",
      "97\n",
      "98\n",
      "99\n",
      "100\n",
      "101\n",
      "102\n",
      "103\n",
      "104\n",
      "105\n",
      "106\n",
      "107\n",
      "108\n",
      "109\n",
      "110\n",
      "111\n",
      "112\n",
      "113\n",
      "114\n",
      "115\n",
      "116\n",
      "117\n",
      "118\n",
      "119\n",
      "120\n",
      "121\n",
      "122\n",
      "123\n",
      "124\n",
      "125\n",
      "126\n",
      "127\n",
      "128\n",
      "129\n",
      "130\n",
      "131\n",
      "132\n",
      "133\n",
      "134\n",
      "135\n",
      "136\n",
      "137\n",
      "138\n",
      "139\n",
      "140\n",
      "141\n",
      "142\n",
      "143\n",
      "144\n",
      "145\n",
      "146\n",
      "147\n",
      "148\n",
      "149\n",
      "150\n",
      "151\n",
      "152\n",
      "153\n",
      "154\n",
      "155\n",
      "156\n",
      "157\n",
      "158\n",
      "159\n",
      "160\n",
      "161\n",
      "162\n",
      "163\n",
      "164\n",
      "165\n",
      "166\n",
      "167\n",
      "168\n",
      "169\n",
      "170\n",
      "171\n",
      "172\n",
      "173\n",
      "174\n",
      "175\n",
      "176\n",
      "177\n",
      "178\n",
      "179\n",
      "180\n",
      "181\n",
      "182\n",
      "183\n",
      "184\n",
      "185\n",
      "186\n",
      "187\n",
      "188\n",
      "189\n",
      "190\n",
      "191\n",
      "192\n",
      "193\n",
      "194\n",
      "195\n",
      "196\n",
      "197\n",
      "198\n",
      "199\n",
      "200\n",
      "201\n",
      "202\n",
      "203\n",
      "204\n",
      "205\n",
      "206\n",
      "207\n",
      "208\n",
      "209\n",
      "210\n",
      "211\n",
      "212\n",
      "213\n",
      "214\n",
      "215\n",
      "216\n",
      "217\n",
      "218\n",
      "219\n",
      "220\n",
      "221\n",
      "222\n",
      "223\n",
      "224\n",
      "225\n",
      "226\n",
      "227\n",
      "228\n",
      "229\n",
      "230\n",
      "231\n",
      "found error after 231 runs\n",
      "Something went wrong\n",
      "The error was using magic numbers\n"
     ]
    }
   ],
   "source": [
    "!cd ./shell_tools ; ./step3.sh"
   ]
  },
  {
   "cell_type": "markdown",
   "metadata": {},
   "source": [
    "Didn't do step4 & step5"
   ]
  },
  {
   "cell_type": "markdown",
   "metadata": {},
   "source": [
    "#### Excersise 9\n",
    "\n",
    "Move this notebook to the repository directory (unless it is already there), commit and push all updates to the remote. Thes sync it to the local machine and check that this exact notebook runs (Kernel –> Restart and run all) without any changes."
   ]
  },
  {
   "cell_type": "code",
   "execution_count": null,
   "metadata": {},
   "outputs": [],
   "source": [
    "notebook_runs_on_local_machine_without_any_changes = # True or False\n",
    "assert notebook_runs_on_local_machine_without_any_changes"
   ]
  },
  {
   "cell_type": "markdown",
   "metadata": {},
   "source": [
    "### Sumbitting your home assignment\n",
    "Push your results to the remote repository and share the link to it in the Google Classroom.\n",
    "\n",
    "Congratulations!"
   ]
  }
 ],
 "metadata": {
  "kernelspec": {
   "display_name": "Py3_Study",
   "language": "python",
   "name": "py3_study"
  },
  "language_info": {
   "codemirror_mode": {
    "name": "ipython",
    "version": 3
   },
   "file_extension": ".py",
   "mimetype": "text/x-python",
   "name": "python",
   "nbconvert_exporter": "python",
   "pygments_lexer": "ipython3",
   "version": "3.8.12"
  }
 },
 "nbformat": 4,
 "nbformat_minor": 4
}
