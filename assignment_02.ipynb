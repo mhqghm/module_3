{
 "cells": [
  {
   "cell_type": "markdown",
   "metadata": {
    "id": "_9j_aLkqSrBi"
   },
   "source": [
    "To generate random data in Python using a [random](https://pynative.com/python/random/) module "
   ]
  },
  {
   "cell_type": "code",
   "execution_count": 1,
   "metadata": {
    "id": "xMl6GayDUCB4"
   },
   "outputs": [],
   "source": [
    "import random\n",
    "import math"
   ]
  },
  {
   "cell_type": "markdown",
   "metadata": {
    "id": "QMlUzOq0oAI5"
   },
   "source": [
    "### Exercise 1\n",
    "You have a list a = [1, 1, 2, 3, 5, 6, 13, 21, 34, 55, 89].\n",
    "\n",
    "Print all even elements and sum."
   ]
  },
  {
   "cell_type": "code",
   "execution_count": 2,
   "metadata": {
    "id": "rwJIfKOdnfGW"
   },
   "outputs": [
    {
     "name": "stdout",
     "output_type": "stream",
     "text": [
      "[2, 6, 34] 230\n"
     ]
    }
   ],
   "source": [
    "a = [1, 1, 2, 3, 5, 6, 13, 21, 34, 55, 89]\n",
    "# your code here\n",
    "print([x for x in a if x % 2 == 0], sum(a))"
   ]
  },
  {
   "cell_type": "markdown",
   "metadata": {
    "id": "0PxuwdtZoB9-"
   },
   "source": [
    "### Exercise 2\n",
    "Print a list that consists of the common elements of the two lists."
   ]
  },
  {
   "cell_type": "code",
   "execution_count": 3,
   "metadata": {
    "id": "9T9ue6_h-RA0"
   },
   "outputs": [
    {
     "name": "stdout",
     "output_type": "stream",
     "text": [
      "{1, 2, 3, 5, 6, 13}\n"
     ]
    }
   ],
   "source": [
    "a = [1, 1, 2, 3, 5, 6, 13, 21, 34, 55, 89]\n",
    "b = [1, 2, 3, 4, 5, 6, 7, 8, 9, 10, 11, 12, 13]\n",
    "print(set(a).intersection(b))"
   ]
  },
  {
   "cell_type": "markdown",
   "metadata": {
    "id": "D-7vU_xMoGXW"
   },
   "source": [
    "### Exercise 3\n",
    "Print the first n lines of [Pascal's triangle](https://en.wikipedia.org/wiki/Pascal%27s_triangle). The view can be not formatted, that is, just print lines from Pascal's triangle."
   ]
  },
  {
   "cell_type": "code",
   "execution_count": 13,
   "metadata": {
    "id": "ORxlMF5XoHaf"
   },
   "outputs": [
    {
     "name": "stdout",
     "output_type": "stream",
     "text": [
      "Enter the number of lines: 5\n",
      "1\n",
      "1 1\n",
      "1 2 1\n",
      "1 3 3 1\n",
      "1 4 6 4 1\n"
     ]
    }
   ],
   "source": [
    "n = int(input('Enter the number of lines: '))\n",
    "for i in range(n):\n",
    "    print(' '.join([str(math.comb(i, j)) for j in range(i + 1)]))"
   ]
  },
  {
   "cell_type": "markdown",
   "metadata": {
    "id": "LZFh27IYoH-M"
   },
   "source": [
    "### Exercise 4\n",
    "Check if the string is a palindrome."
   ]
  },
  {
   "cell_type": "code",
   "execution_count": 21,
   "metadata": {
    "id": "dbmC6TJNTERJ"
   },
   "outputs": [
    {
     "name": "stdout",
     "output_type": "stream",
     "text": [
      "Enter the string: aa\n",
      "True\n"
     ]
    }
   ],
   "source": [
    "string = input('Enter the string: ')\n",
    "# your code here\n",
    "print(all([string[i] == string[len(string) - i - 1] for i in range(len(string))]))"
   ]
  },
  {
   "cell_type": "markdown",
   "metadata": {
    "id": "0dG5QsDnoJw4"
   },
   "source": [
    "### Exercise 5\n",
    "Convert seconds to days:hours:minutes:seconds (without using datetime)"
   ]
  },
  {
   "cell_type": "code",
   "execution_count": 25,
   "metadata": {
    "id": "riZL3l86TJ2Z"
   },
   "outputs": [
    {
     "name": "stdout",
     "output_type": "stream",
     "text": [
      "Number of seconds: 360000\n",
      "4:4:0:0\n"
     ]
    }
   ],
   "source": [
    "seconds = int(input(\"Number of seconds: \"))\n",
    "# your code here\n",
    "print('{0}:{1}:{2}:{3}'.format((seconds // (3600 * 24)), (seconds // 3600) % 24, (seconds // 60) % 60, seconds % 60))"
   ]
  },
  {
   "cell_type": "code",
   "execution_count": null,
   "metadata": {
    "id": "hZ9eY7HsoKyd"
   },
   "outputs": [],
   "source": []
  },
  {
   "cell_type": "markdown",
   "metadata": {
    "id": "nBVW10zzoLN-"
   },
   "source": [
    "### Exercise 6\n",
    "You accept a comma-separated sequence of numbers from the user. Make a list and tuple of these numbers."
   ]
  },
  {
   "cell_type": "code",
   "execution_count": 29,
   "metadata": {
    "id": "x--lqdQOoMSG"
   },
   "outputs": [
    {
     "name": "stdout",
     "output_type": "stream",
     "text": [
      "Enter the sequence: 5, 12, 322\n",
      "[5, 12, 322]\n",
      "(5, 12, 322)\n"
     ]
    }
   ],
   "source": [
    "sequence = input(\"Enter the sequence: \")\n",
    "# your code here\n",
    "list_int = [int(x) for x in sequence.split(', ')]\n",
    "print(list_int)\n",
    "print(tuple(list_int))"
   ]
  },
  {
   "cell_type": "markdown",
   "metadata": {
    "id": "LX80ZS4VoMt_"
   },
   "source": [
    "### Exercise 7\n",
    "Print the first and last element of a list filled with N random integers."
   ]
  },
  {
   "cell_type": "code",
   "execution_count": 35,
   "metadata": {
    "id": "O16WVyH2TfRO"
   },
   "outputs": [
    {
     "name": "stdout",
     "output_type": "stream",
     "text": [
      "10\n",
      "[92, 24, 47, 99, 17, 95, 59, 53, 33, 60]\n",
      "[92] [60]\n"
     ]
    }
   ],
   "source": [
    "N = int(input())\n",
    "# your code here\n",
    "s = [random.randint(0, 100) for i in range(N)]\n",
    "#print(s)\n",
    "print(s[0:1], s[-1:])"
   ]
  },
  {
   "cell_type": "markdown",
   "metadata": {
    "id": "RONwF247oOGw"
   },
   "source": [
    "### Exercise 8\n",
    "Print the file extension. If it cannot be determined, print \"no extension\"."
   ]
  },
  {
   "cell_type": "code",
   "execution_count": 40,
   "metadata": {
    "id": "zXm-h5SlUPlF"
   },
   "outputs": [
    {
     "name": "stdout",
     "output_type": "stream",
     "text": [
      "File name: \n",
      "input\n",
      "no extension\n"
     ]
    }
   ],
   "source": [
    "filename = input('File name: \\n')\n",
    "# your code here\n",
    "pos = filename.rfind('.')\n",
    "if pos == -1:\n",
    "    print(\"no extension\")\n",
    "else:\n",
    "    print(filename[pos + 1:])"
   ]
  },
  {
   "cell_type": "markdown",
   "metadata": {
    "id": "Imewfx3UphZG"
   },
   "source": [
    "### Exercise 9\n",
    "Add up the digits of the given integer."
   ]
  },
  {
   "cell_type": "code",
   "execution_count": 43,
   "metadata": {
    "id": "S0prYFkypjMD"
   },
   "outputs": [
    {
     "name": "stdout",
     "output_type": "stream",
     "text": [
      "15\n"
     ]
    }
   ],
   "source": [
    "x = 12345\n",
    "# your code here\n",
    "print(sum(int(c) for c in str(x)))\n"
   ]
  },
  {
   "cell_type": "markdown",
   "metadata": {
    "id": "tx0wApZupk05"
   },
   "source": [
    "### Exercise 10\n",
    "Сreate two lists of size 20 containing random integers from the segment [0, 30], prints them to the screen and all elements of the first that are not in the second."
   ]
  },
  {
   "cell_type": "code",
   "execution_count": 49,
   "metadata": {
    "id": "MkC_sLdRpoG7"
   },
   "outputs": [
    {
     "name": "stdout",
     "output_type": "stream",
     "text": [
      "[1, 29, 13, 8, 24, 0, 26, 19, 7, 20, 10, 13, 13, 4, 24, 25, 24, 20, 25, 22]\n",
      "[7, 30, 7, 25, 16, 8, 12, 18, 21, 10, 1, 22, 23, 1, 9, 14, 22, 4, 25, 5]\n",
      "[5, 9, 12, 14, 16, 18, 21, 23, 30]\n"
     ]
    }
   ],
   "source": [
    "# your code here\n",
    "lst1 = [random.randint(0, 30) for i in range(20)]\n",
    "lst2 = [random.randint(0, 30) for i in range(20)]\n",
    "print(lst1)\n",
    "print(lst2)\n",
    "print(list(set(lst2).difference(set(lst1))))\n"
   ]
  },
  {
   "cell_type": "markdown",
   "metadata": {
    "id": "PO9NF3IBpoxz"
   },
   "source": [
    "### Exercise 11\n",
    "Find the number of divisors of a given integer."
   ]
  },
  {
   "cell_type": "code",
   "execution_count": 52,
   "metadata": {
    "executionInfo": {
     "elapsed": 299,
     "status": "ok",
     "timestamp": 1636697358832,
     "user": {
      "displayName": "Илья Склонин",
      "photoUrl": "https://lh3.googleusercontent.com/a-/AOh14GhUvANVFromlHIqSQCbXd0ZcDr9JIJjbuaZr1Zlig=s64",
      "userId": "11017978408778967846"
     },
     "user_tz": -180
    },
    "id": "6pqgc99LprzC"
   },
   "outputs": [
    {
     "name": "stdout",
     "output_type": "stream",
     "text": [
      "7\n",
      "2\n"
     ]
    }
   ],
   "source": [
    "integer = int(input())\n",
    "# your code here\n",
    "divs_num = 0\n",
    "for i in range(1, integer + 1):\n",
    "    if integer % i == 0:\n",
    "        divs_num += 1\n",
    "print(divs_num)\n"
   ]
  },
  {
   "cell_type": "markdown",
   "metadata": {
    "id": "0lMCVueRpsae"
   },
   "source": [
    "### Exercise 12\n",
    "Count input letter in the input string."
   ]
  },
  {
   "cell_type": "code",
   "execution_count": 54,
   "metadata": {
    "id": "u-x80kjLQIVg"
   },
   "outputs": [
    {
     "name": "stdout",
     "output_type": "stream",
     "text": [
      "string: abca\n",
      "letter: a\n",
      "2\n"
     ]
    }
   ],
   "source": [
    "string = input('string: ')\n",
    "letter = input('letter: ')\n",
    "# your code here\n",
    "print(string.count(letter))"
   ]
  },
  {
   "cell_type": "markdown",
   "metadata": {
    "id": "FF0C3-cTp0uy"
   },
   "source": [
    "### Exercise 13\n",
    "Swap the values "
   ]
  },
  {
   "cell_type": "code",
   "execution_count": 55,
   "metadata": {
    "id": "KRHJfO1dcwNr"
   },
   "outputs": [
    {
     "name": "stdout",
     "output_type": "stream",
     "text": [
      "abc\n",
      "def\n",
      "abc def\n",
      "def abc\n"
     ]
    }
   ],
   "source": [
    "var1 = input()\n",
    "var2 = input()\n",
    "# your code here\n",
    "print(var1, var2)\n",
    "var1, var2 = var2, var1\n",
    "print(var1, var2)\n"
   ]
  },
  {
   "cell_type": "markdown",
   "metadata": {
    "id": "I2x5B2_Np9kO"
   },
   "source": [
    "### Exercise 14\n",
    "You need to check if all the numbers in the sequence are unique. The sequence consists of integers entered from the keyboard. The end of the input is the `'#'` symbol."
   ]
  },
  {
   "cell_type": "code",
   "execution_count": 66,
   "metadata": {
    "id": "gsiB8H61p_Bb"
   },
   "outputs": [
    {
     "name": "stdout",
     "output_type": "stream",
     "text": [
      "5 5 #\n",
      "not unique\n"
     ]
    }
   ],
   "source": [
    "# your code here\n",
    "s = input()\n",
    "s = s[:-1]\n",
    "all_ints = list(map(int, s.split()))\n",
    "if len(all_ints) > len(set(all_ints)):\n",
    "    print(\"not unique\")\n",
    "else:\n",
    "    print(\"unique\")"
   ]
  },
  {
   "cell_type": "markdown",
   "metadata": {
    "id": "hiPumXgoZtPS"
   },
   "source": [
    "### Exercise 15\n",
    "\n",
    "Create two built-in frozenset objects from strings `'reversed question'` and `'answer'`, and try to make them keys in the dct dictionary for the strings `'? Tesnezorf dna tes neewteb ecnereffid niam eht si tahw'` and **`'<your answer to the question>'`**, respectively. There is no need to reverse the answer. Finally, print out the dct dictionary."
   ]
  },
  {
   "cell_type": "code",
   "execution_count": null,
   "metadata": {
    "id": "raWWJ0h_77_B"
   },
   "outputs": [],
   "source": []
  },
  {
   "cell_type": "code",
   "execution_count": 68,
   "metadata": {
    "id": "1Jp2fm0jaChM"
   },
   "outputs": [
    {
     "data": {
      "text/plain": [
       "{frozenset({' ',\n",
       "            'd',\n",
       "            'e',\n",
       "            'i',\n",
       "            'n',\n",
       "            'o',\n",
       "            'q',\n",
       "            'r',\n",
       "            's',\n",
       "            't',\n",
       "            'u',\n",
       "            'v'}): '? Tesnezorf dna tes neewteb ecnereffid niam eht si tahw',\n",
       " frozenset({'a', 'e', 'n', 'r', 's', 'w'}): '<your answer to the question>'}"
      ]
     },
     "execution_count": 68,
     "metadata": {},
     "output_type": "execute_result"
    }
   ],
   "source": [
    "# your code here\n",
    "dct = {}\n",
    "f1 = frozenset('reversed question')\n",
    "f2 = frozenset('answer')\n",
    "dct[f1] = '? Tesnezorf dna tes neewteb ecnereffid niam eht si tahw'\n",
    "dct[f2] = '<your answer to the question>'\n",
    "dct"
   ]
  },
  {
   "cell_type": "markdown",
   "metadata": {
    "id": "wIXXdtGdaMhF"
   },
   "source": [
    "### Exercise 16\n",
    "\n",
    "Find the area of a circle. You can use const `'pi'` from `'math'` module "
   ]
  },
  {
   "cell_type": "code",
   "execution_count": 70,
   "metadata": {
    "id": "QGSPfMB-anqX"
   },
   "outputs": [
    {
     "name": "stdout",
     "output_type": "stream",
     "text": [
      "10.141414\n",
      "323.10739434593575\n"
     ]
    }
   ],
   "source": [
    "r = float(input())\n",
    "# your code here\n",
    "print(math.pi * r * r)"
   ]
  },
  {
   "cell_type": "markdown",
   "metadata": {
    "id": "Dj3SgDdLahaZ"
   },
   "source": [
    "### Exercise 17\n",
    "\n",
    "Swap keys and values."
   ]
  },
  {
   "cell_type": "code",
   "execution_count": 73,
   "metadata": {
    "colab": {
     "base_uri": "https://localhost:8080/"
    },
    "executionInfo": {
     "elapsed": 234,
     "status": "ok",
     "timestamp": 1636699521235,
     "user": {
      "displayName": "Илья Склонин",
      "photoUrl": "https://lh3.googleusercontent.com/a-/AOh14GhUvANVFromlHIqSQCbXd0ZcDr9JIJjbuaZr1Zlig=s64",
      "userId": "11017978408778967846"
     },
     "user_tz": -180
    },
    "id": "jVi685NrawKc",
    "outputId": "bd0912e5-7e38-4ecc-981a-cc6242cdb5b0"
   },
   "outputs": [
    {
     "name": "stdout",
     "output_type": "stream",
     "text": [
      "{0: 0, 1: 1, 2: 4, 3: 9, 4: 16, 5: 25, 6: 36, 7: 49, 8: 64, 9: 81}\n",
      "{0: 0, 1: 1, 4: 2, 9: 3, 16: 4, 25: 5, 36: 6, 49: 7, 64: 8, 81: 9}\n"
     ]
    }
   ],
   "source": [
    "dct = {x: x ** 2 for x in range(10)}\n",
    "print(dct)\n",
    "# your code here\n",
    "new_dct = dict(zip(dct.values(), dct.keys()))\n",
    "print(new_dct)"
   ]
  },
  {
   "cell_type": "markdown",
   "metadata": {
    "id": "bSkROdzbbDPT"
   },
   "source": [
    "### Exercise 18\n",
    "\n",
    "Create a variable that stores the description of this task as a string, separate the words, and convert to LOWERCASE."
   ]
  },
  {
   "cell_type": "code",
   "execution_count": 85,
   "metadata": {
    "id": "QLQuRJ5fbHyG"
   },
   "outputs": [
    {
     "name": "stdout",
     "output_type": "stream",
     "text": [
      "Create a variable that stores the description of this task as a string  separate the words  and convert to LOWERCASE \n",
      "create a variable that stores the description of this task as a string  separate the words  and convert to lowercase \n"
     ]
    }
   ],
   "source": [
    "# your code here\n",
    "task_statement = \"Create a variable that stores the description of this task as a string, separate the words, and convert to LOWERCASE.\"\n",
    "splitted_task = task_statement.replace(',', ' ').replace('.', ' ')\n",
    "print(splitted_task)\n",
    "splitted_task = splitted_task.lower()\n",
    "print(splitted_task)"
   ]
  },
  {
   "cell_type": "markdown",
   "metadata": {
    "id": "xDwSLToobQIJ"
   },
   "source": [
    "### Exercise 19\n",
    "Print the sorted words from the previous exercise in reverse lexicographical order."
   ]
  },
  {
   "cell_type": "code",
   "execution_count": 92,
   "metadata": {
    "id": "QqEMRS9NbST0"
   },
   "outputs": [
    {
     "name": "stdout",
     "output_type": "stream",
     "text": [
      "['a', 'a', 'and', 'as', 'convert', 'create', 'description', 'lowercase', 'of', 'separate', 'stores', 'string', 'task', 'that', 'the', 'the', 'this', 'to', 'variable', 'words']\n",
      "['words', 'variable', 'to', 'this', 'the', 'the', 'that', 'task', 'string', 'stores', 'separate', 'of', 'lowercase', 'description', 'create', 'convert', 'as', 'and', 'a', 'a']\n"
     ]
    }
   ],
   "source": [
    "# your code here\n",
    "word_list = splitted_task.split()\n",
    "word_list.sort()\n",
    "print(word_list)\n",
    "word_list.reverse()\n",
    "print(word_list)"
   ]
  },
  {
   "cell_type": "markdown",
   "metadata": {
    "id": "rO-Amdrhbfc5"
   },
   "source": [
    "### Exercise 20\n",
    "\n",
    "Write code that reverses all odd-numbered elements of lst in reverse order.\n",
    "\n",
    "That is, if lst = [0, 1, 2, 3, 4, 5, 6, 7, 8, 9], then you should get [0, 9, 2, 7, 4, 5, 6, 3, 8, 1]"
   ]
  },
  {
   "cell_type": "code",
   "execution_count": 100,
   "metadata": {
    "id": "e3SdQqGLbnI9"
   },
   "outputs": [
    {
     "name": "stdout",
     "output_type": "stream",
     "text": [
      "[0, 9, 2, 7, 4, 5, 6, 3, 8, 1]\n"
     ]
    }
   ],
   "source": [
    "# your code here\n",
    "lst = [0, 1, 2, 3, 4, 5, 6, 7, 8, 9]\n",
    "lst[1::2] = reversed(lst[1::2])\n",
    "print(lst)\n"
   ]
  },
  {
   "cell_type": "code",
   "execution_count": null,
   "metadata": {},
   "outputs": [],
   "source": []
  }
 ],
 "metadata": {
  "colab": {
   "collapsed_sections": [],
   "name": "home_assignment_02",
   "provenance": [
    {
     "file_id": "1Xrp3JxkheLxkAY5f7xZ1U90RtnexICQU",
     "timestamp": 1636693755902
    },
    {
     "file_id": "18bbmK2TYy_r3K1Frc9wOVpGv_ZNAImO2",
     "timestamp": 1636476683698
    },
    {
     "file_id": "1v-rKLwgo02lZQEOi3hGw01NFnxA0pSmF",
     "timestamp": 1625665244599
    },
    {
     "file_id": "1aUZJff9pPV4ntzeJ3_GXZtawvMaCPW-V",
     "timestamp": 1609226955665
    }
   ],
   "toc_visible": true
  },
  "kernelspec": {
   "display_name": "Python 3 (ipykernel)",
   "language": "python",
   "name": "python3"
  },
  "language_info": {
   "codemirror_mode": {
    "name": "ipython",
    "version": 3
   },
   "file_extension": ".py",
   "mimetype": "text/x-python",
   "name": "python",
   "nbconvert_exporter": "python",
   "pygments_lexer": "ipython3",
   "version": "3.9.5"
  }
 },
 "nbformat": 4,
 "nbformat_minor": 1
}
